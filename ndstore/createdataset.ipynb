{
 "cells": [
  {
   "cell_type": "markdown",
   "metadata": {},
   "source": [
    "# Create a Dataset\n",
    "\n",
    "Once you know the properties of your data necessary to create a dataset, project, and channels for your images, as we did in the [get metadata](#) tutorial, you can head over to the administrative process to being getting your data into **ndstore**."
   ]
  },
  {
   "cell_type": "markdown",
   "metadata": {
    "collapsed": true
   },
   "source": [
    "### Step 1: Create an account\n",
    "\n",
    "Once you've picked a database server to use (i.e. a deployment of **ndstore**), you should navigate to the login page in your web browser and make your account. For this demonstration, we have elected to use [http://openconnecto.me/](http://openconnecto.me/ocp/accounts/login/).\n",
    "\n",
    "Once you create an account you will get a confirmation email to activate it. Then, return to the website and log-in.\n",
    "\n",
    "![stuff](../images/createdataset1.png)"
   ]
  },
  {
   "cell_type": "markdown",
   "metadata": {},
   "source": [
    "### Step 2: Create a dataset\n",
    "\n",
    "Once you've logged in, you should see a banner near the top of your screen with two buttons: datasets, and projects. Click on \"Datasets\", and then \"Create dataset\".\n",
    "\n",
    "![create dataset](../images/createdataset2.png)\n",
    "\n",
    "You will then be brought to a new screen in which you will be prompted for a lot of metadata about your data (which you acquired in the previous tutorial). You should enter all of the values you've obtained and press submit when your form looks like the one below. When entering resolution, the value provided is interpretted in nanometers, so if your images are millimeter resolution (as our demo data is), you should enter `1000000`. Note: if you are using the same server you will get an error stating that a dataset already exists with this name - that is because, understandably, the service cannot have two datasets with the same identifier.\n",
    "\n",
    "![dataset details](../images/createdataset3.png)\n",
    "\n",
    "Once your form is complete, click \"Create Dataset,\" and you should be brought to the Datasets page which lists all existing datasets in this instance of **ndstore**. If you scroll down to *kki2009_demo*, you should see that your dataset now exists in the database.\n",
    "\n",
    "![successful dataset](../images/createdataset4.png)"
   ]
  },
  {
   "cell_type": "markdown",
   "metadata": {},
   "source": [
    "### Step 3: Create Project\n",
    "\n",
    "Once you have successfully created a dataset, you need to create a project upon it. You can think of a dataset as the \"space\" which an experiment took place in, and the project as an observation of an experiment in that space (somewhat akin in nature to probability, in which you have a random variables drawn from a sample space). On the top bar you should now click on the \"Project\" and then \"Create project\" buttons.\n",
    "\n",
    "![create project](../images/createdataset5.png)\n",
    "\n",
    "You should now see a form which prompts you to enter more information, this time about your specific project. You should select the dataset you defined earlier, and pick a descriptive name (with no spaces) for your project. In the previous section we looked at data from the `kki2009_demo` dataset, and in particular the subject `113_1`, so we will use that as our project title. Unless you've been in contact with the administrator of your particular **ndstore** instance providing different instructions, you should leave the remaining dropdown menus at their default values. You want to tick the box providing you a default token, as that saves you a step later on when trying to access your data. Once you've completed filling out the form you should again see a form like that below.\n",
    "\n",
    "![filled out project](../images/createdataset6.png)\n",
    "\n",
    "You can now click \"Create New Project\" and will be redirected to the project page, where you can scroll down and find your newly created project under your previously created dataset.\n",
    "\n",
    "![project and dataset](../images/createdataset7.png)"
   ]
  },
  {
   "cell_type": "markdown",
   "metadata": {},
   "source": [
    "### Step 4: Create channel\n",
    "\n",
    "In order to upload data to this project you need to create channels for it. For instance, if you have raw images and annotations, you would create two channels - one for each - each with properties specific with the to the data being represented. Here, we only have raw data, so we will create a single channel. To do this, click on the \"Channels\" button you see in the project window represented above.\n",
    "\n",
    "You will be redirected to a page where you can see that no channels currently exist, but you are invited to create one. Click the \"Add Channel\" button.\n",
    "\n",
    "![add channel](../images/createdataset8.png)\n",
    "\n",
    "You will then see fields pertaining to the remaining bit of metadata we collected. You should enter these values and select that this channel be the default channel for the project. Once your field looks like that shown below, you can click the \"Create Channel\" button.\n",
    "\n",
    "![channel properties](../images/createdataset9.png)\n",
    "\n",
    "You should then be returned to the channel page, where you will now see that your channel exists.\n",
    "\n",
    "![created channel](../images/createdataset10.png)"
   ]
  },
  {
   "cell_type": "markdown",
   "metadata": {},
   "source": [
    "### Step 5: Ingesting your data\n",
    "\n",
    "Now that you have a dataset, project, token, and channel all setup for your data, you should record these values and prepare to ingest your data. Note that when you selected to create a default token, the token name was created with the same name as your project. Summarizing the values for our example, we have:\n",
    "\n",
    "| field | value |\n",
    "|:------|:------|\n",
    "| dataset | kki2009_demo |\n",
    "| project | 113_1_demo |\n",
    "| token | 113_1_demo |\n",
    "| channel | image |\n",
    "\n",
    "Now you can move on to one of our ingest tutorials to upload your data."
   ]
  }
 ],
 "metadata": {
  "kernelspec": {
   "display_name": "Python 2",
   "language": "python",
   "name": "python2"
  },
  "language_info": {
   "codemirror_mode": {
    "name": "ipython",
    "version": 2
   },
   "file_extension": ".py",
   "mimetype": "text/x-python",
   "name": "python",
   "nbconvert_exporter": "python",
   "pygments_lexer": "ipython2",
   "version": "2.7.11"
  }
 },
 "nbformat": 4,
 "nbformat_minor": 0
}
