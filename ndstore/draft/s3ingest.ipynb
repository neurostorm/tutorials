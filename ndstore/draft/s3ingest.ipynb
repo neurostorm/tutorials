{
 "cells": [
  {
   "cell_type": "markdown",
   "metadata": {},
   "source": [
    "# Ingesting data via s3ingest"
   ]
  },
  {
   "cell_type": "markdown",
   "metadata": {},
   "source": [
    "### Step 1: Organize your data\n",
    "\n",
    "follow spec here http://docs.neurodata.io/ndstore/sphinx/ingesting.html\n",
    "\n",
    "currently only 3d data"
   ]
  },
  {
   "cell_type": "markdown",
   "metadata": {},
   "source": [
    "### Step 2: Get data locally\n",
    "\n",
    "move data to same file system where you're running the ndstore database"
   ]
  },
  {
   "cell_type": "markdown",
   "metadata": {},
   "source": [
    "### Step 3: Write ingest file\n",
    "\n",
    "go to directory for configs\n",
    "```\n",
    "cd /home/neurodata/ndstore/ingest-client/ingest/configs\n",
    "```\n",
    "\n",
    "look at a config\n",
    "```\n",
    "cat ./neurodata-kasthuri11-example.json\n",
    "```\n",
    "- lines 1-12 depend on where you're doing things\n",
    "- pick right file processor and tile processor based on your data (docs to be provided by APL)\n",
    "- if your files are not following the naming convention in the docs, you may need to adjust ingest/plugins/stack.py\n",
    "- disable ssl csrf (lines 278-285 in settings.py)\n",
    "- copy-paste AWS credentials to settings_secret.py\n",
    "\n",
    "projects:\n",
    "- dbhost: debug\n",
    "- kv engine: redis\n",
    "- kv server: debug"
   ]
  },
  {
   "cell_type": "markdown",
   "metadata": {},
   "source": [
    "{\n",
    "  \"schema\": {\n",
    "      \"name\": \"neurodata-schema\",\n",
    "      \"validator\": \"NeurodataValidator\"\n",
    "  },\n",
    "  \"client\": {\n",
    "    \"backend\": {\n",
    "      \"name\": \"neurodata\",\n",
    "      \"class\": \"NeurodataBackend\",\n",
    "      \"host\": \"localhost:8000\",\n",
    "      \"protocol\": \"http\"\n",
    "    },\n",
    "    \"path_processor\": {\n",
    "      \"class\": \"ingest.plugins.stack.ZindexStackPathProcessor\",\n",
    "      \"params\": {\n",
    "        \"root_dir\": \"/data/greg/\",\n",
    "        \"filetype\": \"png\"\n",
    "      }\n",
    "    },\n",
    "    \"tile_processor\": {\n",
    "      \"class\": \"ingest.plugins.stack.ZindexStackTileProcessor\",\n",
    "      \"params\": {\n",
    "        \"filetype\": \"png\"\n",
    "      }\n",
    "    }\n",
    "  },\n",
    "  \"database\": {\n",
    "    \"dataset\": \"greg16\",\n",
    "    \"project\": \"greg16\",\n",
    "    \"channel\": \"image\"\n",
    "  },\n",
    "  \"ingest_job\": {\n",
    "    \"resolution\": 0,\n",
    "    \"extent\": {\n",
    "      \"x\": [0, 182],\n",
    "      \"y\": [0, 218],\n",
    "      \"z\": [0, 64],\n",
    "      \"t\": [0, 1]\n",
    "    },\n",
    "    \"tile_size\": {\n",
    "      \"x\": 182,\n",
    "      \"y\": 218,\n",
    "      \"z\": 1,\n",
    "      \"t\": 1\n",
    "    }\n",
    "  }\n",
    "}"
   ]
  },
  {
   "cell_type": "markdown",
   "metadata": {},
   "source": [
    "```\n",
    "python aws_interface.py token --data /path/to/data --config /path/to/json --action upload-new\n",
    "```"
   ]
  },
  {
   "cell_type": "markdown",
   "metadata": {},
   "source": [
    "# note to self\n",
    "\n",
    "- make create dataset tutorial\n",
    "- make create ingest json tutorial\n",
    "- make placeholder for ingest tutorial, and internal tutorial for eric and myself"
   ]
  },
  {
   "cell_type": "code",
   "execution_count": null,
   "metadata": {
    "collapsed": true
   },
   "outputs": [],
   "source": []
  }
 ],
 "metadata": {
  "kernelspec": {
   "display_name": "Python 2",
   "language": "python",
   "name": "python2"
  },
  "language_info": {
   "codemirror_mode": {
    "name": "ipython",
    "version": 2
   },
   "file_extension": ".py",
   "mimetype": "text/x-python",
   "name": "python",
   "nbconvert_exporter": "python",
   "pygments_lexer": "ipython2",
   "version": "2.7.11"
  }
 },
 "nbformat": 4,
 "nbformat_minor": 0
}
