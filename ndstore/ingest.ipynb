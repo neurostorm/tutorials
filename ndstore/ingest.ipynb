{
 "cells": [
  {
   "cell_type": "markdown",
   "metadata": {},
   "source": [
    "# Image Ingest\n",
    "\n",
    "**ndstore** is a spatial database designed for quickly writing, retrieving, accessing, analyzing, and visualizing large data volumes. Datasets in **ndstore** range in size from a few hundred MB (in the case of MRI), up to hundreds of TB (in the case of EM). If you are collecting or have a spatial dataset that you wish to share, storing it in **ndstore** is a tremendous first step.\n",
    "\n",
    "The process of putting your data in **ndstore** is referred to as \"*ingesting*\" your data. This process requires several steps, including understanding metadata about your images, creating a dataset/project/token for storing and accessing your data in the system, and uploading your data in one of several ways, determined by what makes the most sense given the current location and size of your data."
   ]
  },
  {
   "cell_type": "markdown",
   "metadata": {},
   "source": [
    "### Step 1: Get metadata\n",
    "\n",
    "Prior to creating entries in the database for your data, it is important to know and understand different properties of your data. Many of these properties can be found by interrogating your images, while others may require more intimate knowledge of the image acquisition. Please follow our [get metadata](#) tutorial to fulfill this step."
   ]
  },
  {
   "cell_type": "markdown",
   "metadata": {},
   "source": [
    "### Step 2: Create dataset \n",
    "\n",
    "Once metadata is collected, you can create the dataset, project, token, and channels for your image collection. These can be thought of as detailed pointers describing what your data are, and where they can be accessed in the database. Please follow our [create dataset](#) tutorial to setup the database for your image collection."
   ]
  },
  {
   "cell_type": "markdown",
   "metadata": {
    "collapsed": true
   },
   "source": [
    "### Step 3: Ingest your data\n",
    "\n",
    "You can now ingest via one of our several ingestion methods. Here, are your options and their respective tutorials:\n",
    "\n",
    "- [autoingest](#)"
   ]
  }
 ],
 "metadata": {
  "kernelspec": {
   "display_name": "Python 2",
   "language": "python",
   "name": "python2"
  },
  "language_info": {
   "codemirror_mode": {
    "name": "ipython",
    "version": 2
   },
   "file_extension": ".py",
   "mimetype": "text/x-python",
   "name": "python",
   "nbconvert_exporter": "python",
   "pygments_lexer": "ipython2",
   "version": "2.7.11"
  }
 },
 "nbformat": 4,
 "nbformat_minor": 0
}
