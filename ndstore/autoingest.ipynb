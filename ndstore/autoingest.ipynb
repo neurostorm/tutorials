{
 "cells": [
  {
   "cell_type": "markdown",
   "metadata": {},
   "source": [
    "# Autoingesting Your Data\n",
    "\n",
    "As we've mentioned in previous tutorials, there are several methods for ingesting ones' data into **ndstore**. Which one to choose depends on the size and organization of the data, as well as where it is located. In our case, data is located on a public, HTTP accessible server, so we can exploit one of the easiest forms of ingesting - autoingest. This service requires installing the **ndio** package and running a python script which contains your image location and properties of your dataset/project/token/channel in **ndstore**."
   ]
  },
  {
   "cell_type": "markdown",
   "metadata": {},
   "source": [
    "### Step 1: Install ndio\n",
    "\n",
    "Short for *Neurodata I/O*, **ndio** is a package which aids in posting and retrieving data from **ndstore**. It is a Python package (compatible with both Python 2 and Python 3), which can be insalled simply from the commandline as follows:\n",
    "\n",
    "``` bash\n",
    "pip install ndio\n",
    "```"
   ]
  },
  {
   "cell_type": "markdown",
   "metadata": {},
   "source": [
    "### Step 2: Populate the script\n",
    "\n",
    "Once you have ndio, you should grab the [example autoingest script](https://github.com/neurodata/ndstore/blob/6e37f4a13e84ef947ad5760e76b3ebe00e4c3cd7/ingest/autoingest/autoingest.py) and populate it with your own data. An example for our data is below:"
   ]
  },
  {
   "cell_type": "code",
   "execution_count": 1,
   "metadata": {
    "collapsed": false
   },
   "outputs": [
    {
     "name": "stdout",
     "output_type": "stream",
     "text": [
      "From ndio: \"Dataset kki2009_demo already exists and is different then the chosen dataset. Please choose a different dataset name\"\n"
     ]
    }
   ],
   "source": [
    "import ndio.remote.ndingest as NI\n",
    "\n",
    "ni = NI.NDIngest()\n",
    "\n",
    "\"\"\"\n",
    "Dataset\n",
    "\"\"\"\n",
    "dataset_name = 'kki2009_demo'\n",
    "imagesize = (182, 218, 182)\n",
    "voxelres = (1000000.0, 1000000.0, 1000000.0)\n",
    "offset = (0, 0, 0)\n",
    "timerange = (0, 0)\n",
    "scalinglevels = 0\n",
    "scaling = 1\n",
    "public = 1\n",
    "metadata = \"\"\n",
    "\n",
    "# Add data set information to ingest object\n",
    "ni.add_dataset(dataset_name, imagesize, voxelres, offset,\n",
    "               timerange, scalinglevels, scaling)\n",
    "ni.add_metadata(metadata)\n",
    "\n",
    "\"\"\"\n",
    "Project\n",
    "\"\"\"\n",
    "project_name = '113_1_demo'\n",
    "token_name = '113_1_demo'\n",
    "\n",
    "# Adds project information to ingest object\n",
    "ni.add_project(project_name, token_name, public)\n",
    "\n",
    "\"\"\"\n",
    "Channel\n",
    "\"\"\"\n",
    "# Sets up general channel info\n",
    "datatype = 'uint8'\n",
    "channel_type = 'image'\n",
    "exceptions = 0\n",
    "resolution = 0\n",
    "windowrange = (0, 255)\n",
    "readonly = 0\n",
    "data_url = 'http://openconnecto.me/mrdata/share/ingest/kki2009_demo'\n",
    "file_format = 'SLICE'\n",
    "file_type = 'png'\n",
    "\n",
    "# Lists channel names\n",
    "channels = ['113_1']\n",
    "\n",
    "# Adds each channel's information to ingest object\n",
    "for channel_name in channels:\n",
    "    ni.add_channel(channel_name, datatype, channel_type, data_url,\n",
    "                   file_format, file_type, exceptions, resolution,\n",
    "                   windowrange, readonly)\n",
    "\n",
    "# Post the data\n",
    "ni.post_data(verifytype='Folder')"
   ]
  },
  {
   "cell_type": "markdown",
   "metadata": {},
   "source": [
    "### Step 3: View your data\n",
    "\n",
    "Your ingest may take some time, depending on the size of your data. In the case of our demo, the data is quite small so the ingest should only take a matter of a couple minutes. You can confirm your data was succesfully ingested by viewing it through the **ndstore** cutout service. Below, we show the result of a URL utilizing this service.\n",
    "\n",
    "\n",
    "`http://openconnecto.me/ocp/ca/113_1_demo/image/xy/0/0,182/0,218/90/`\n",
    "![ingested data](http://openconnecto.me/ocp/ca/113_1_demo/image/xy/0/0,182/0,218/90/)"
   ]
  }
 ],
 "metadata": {
  "kernelspec": {
   "display_name": "Python 2",
   "language": "python",
   "name": "python2"
  },
  "language_info": {
   "codemirror_mode": {
    "name": "ipython",
    "version": 2
   },
   "file_extension": ".py",
   "mimetype": "text/x-python",
   "name": "python",
   "nbconvert_exporter": "python",
   "pygments_lexer": "ipython2",
   "version": "2.7.11"
  }
 },
 "nbformat": 4,
 "nbformat_minor": 0
}
